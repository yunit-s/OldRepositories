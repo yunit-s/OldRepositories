{
 "cells": [
  {
   "cell_type": "code",
   "execution_count": 1,
   "id": "beaf0f60",
   "metadata": {},
   "outputs": [],
   "source": [
    "# 이제부터 Numpy에 대해서 알아보자.\n",
    "# 여기서부터는 약간의 코드와 함께 이해를 동반해야 한다.\n",
    "\n",
    "# 데이터 분석, 머신러닝, 딥러닝 이런 분야를 할 때\n",
    "#     가장 시간이 많이 걸리고 잘 해야되는 것이 뭘까?\n",
    "#     데이터 수집과 정제\n",
    "#     우리가 얻을 수 있는 데이터는 쓸모없는 데이터들이 아주아주 많다.\n",
    "#     거기서 쓸모없는 데이터들을 계속 제거하면서 정제해야한다.\n",
    "# 딥러닝, 머신러닝만 중요한 게 아니다.\n",
    "#     근데 이런 건 그냥 가져다 쓰면 쓸 수 있다.\n",
    "#     사실 데이터 핸들링이 제일 중요하다.\n"
   ]
  },
  {
   "cell_type": "code",
   "execution_count": 2,
   "id": "1bb9107a",
   "metadata": {},
   "outputs": [],
   "source": [
    "# Numpy(Numerical Python)\n",
    "#     수치와 관련된 계산\n",
    "#     pandas(데이터 분석 module)와 matplotlib(시각화)의 base가 되는 기본 자료구조를 제공한다.\n",
    "#     직접적으로 데이터를 핸들링하는 경우는 별로 없지만, 자료구조의 특징들은 알고 있어야 한다.\n",
    "\n",
    "# ndarray\n",
    "# numpy가 제공하는 유일한 자료구조\n",
    "# n-dimensional array. n차원 배열. 다차원 배열\n",
    "# 보다 적은 메모리를 필요로 하고, 훨씬 더 빠른 처리를 할 수 있다."
   ]
  },
  {
   "cell_type": "code",
   "execution_count": 16,
   "id": "455a6885",
   "metadata": {},
   "outputs": [
    {
     "name": "stdout",
     "output_type": "stream",
     "text": [
      "[1, 2, 3, 4, 5]\n",
      "[1 2 3 4 5]\n",
      "<class 'numpy.ndarray'>\n",
      "[1, 3.14, '홍길동', True]\n",
      "[1.   2.   3.14 4.   5.  ]\n",
      "float64\n"
     ]
    }
   ],
   "source": [
    "# numpy는 외부 module이기 때문에 당연히 설치해야 한다.\n",
    "# numpy 설치 명령어\n",
    "#     conda install numpy\n",
    "# 외부 모듈을 파이썬에서 쓰기 위해서는 import 구문이 필요하다.\n",
    "# import numpy\n",
    "#     이렇게만 잡으면, 이름을 numpy 로 계속 사용해야 한다.\n",
    "import numpy as np\n",
    "#     aliasing을 잡자. 전세계가 이렇게 잡는다.\n",
    "\n",
    "a = [1, 2, 3, 4, 5] # python의 list\n",
    "print(a) # 출력 : [1, 2, 3, 4, 5]\n",
    "\n",
    "# b = np.array() # numpyt에서 array를 생성한다.\n",
    "b = np.array([1, 2, 3, 4, 5]) # 파이썬의 list를 가지고 numpy의 ndarray를 만들어준다.\n",
    "print(b) # 출력 : [1 2 3 4 5]\n",
    "#     리스트 출력과 ndarray의 출력은 다르다. 이번엔 콤마 가 없다.\n",
    "print(type(b)) # 출력 : <class 'numpy.ndarray'>\n",
    "\n",
    "# 기억해야하는 특징\n",
    "# list 안에는 아무거나 막 들어올 수 있다.\n",
    "c = [1, 3.14, '홍길동', True]\n",
    "print(c) # 출력 : [1, 3.14, '홍길동', True]\n",
    "# ndarray는 반드시 같은 데이터 타입끼리만 들어올 수 있다.\n",
    "d = np.array([1, 2, 3.14, 4, 5])\n",
    "print(d) # 출력 : [1.   2.   3.14 4.   5.  ]\n",
    "print(d.dtype) # 출력 : float64\n"
   ]
  },
  {
   "cell_type": "code",
   "execution_count": 21,
   "id": "c67b53fa",
   "metadata": {},
   "outputs": [
    {
     "name": "stdout",
     "output_type": "stream",
     "text": [
      "[[1, 2, 3], [4, 5, 6]]\n",
      "[[1 2 3]\n",
      " [4 5 6]]\n",
      "2\n",
      "[1 2 3]\n"
     ]
    }
   ],
   "source": [
    "# ndarray가 list와 가장 크게 차이나는 것\n",
    "#     차원을 표현할 수 있다.\n",
    "import numpy as np\n",
    "#     윗쪽 cell에 이미 선언되어 있으므로 안 적어도 됨. 그냥 보기 좋게 적어두자.\n",
    "\n",
    "# 중첩 리스트를 2차원 매트릭스로 변환하기\n",
    "myList = [[1, 2, 3], [4, 5, 6]] # 중첩리스트\n",
    "print(myList) # 출력 : [[1, 2, 3], [4, 5, 6]]\n",
    "arr = np.array(myList)\n",
    "print(arr) # 출력 : [[1 2 3] [4 5 6]]\n",
    "print(arr[0, 1]) # 출력 : 2\n",
    "#     0행 1열을 의미하는 numpy 출력법\n",
    "print(arr[0])"
   ]
  },
  {
   "cell_type": "code",
   "execution_count": 26,
   "id": "c69a221b",
   "metadata": {},
   "outputs": [
    {
     "name": "stdout",
     "output_type": "stream",
     "text": [
      "[1 2 3 4]\n",
      "int32\n",
      "1\n",
      "(4,)\n",
      "(3, 2)\n"
     ]
    }
   ],
   "source": [
    "# 중요한 속성이 있다.\n",
    "\n",
    "# 1차원 ndarray를 하나 만들어보자.\n",
    "arr = np.array([1, 2, 3, 4])\n",
    "print(arr) # 출력 : [1 2 3 4]\n",
    "# 속성 3가지\n",
    "#     dtype : 데이터 타입\n",
    "#     ndim : 차원\n",
    "#     shape : 데이터의 형태. 차원의 수와 요소 수를 tuple로 같이 출력한다.\n",
    "print(arr.dtype) # 출력 : int32\n",
    "print(arr.ndim) # 출력 : 1\n",
    "print(arr.shape) # 출력 : (4,)\n",
    "#     tuple의 원소 개수 : 차원 수\n",
    "#     tuple의 각 차원의 원소 값 : 요소 수\n",
    "\n",
    "b = [[1, 2], [3, 4], [5, 6]]\n",
    "arr = np.array(b)\n",
    "print(arr.shape) # 출력 : (3, 2)\n",
    "#     1차원:행. 2차원:열. 총 2개 차원이니까 tuple의 원소 수가 2개"
   ]
  }
 ],
 "metadata": {
  "kernelspec": {
   "display_name": "Python [conda env:data_env] *",
   "language": "python",
   "name": "conda-env-data_env-py"
  },
  "language_info": {
   "codemirror_mode": {
    "name": "ipython",
    "version": 3
   },
   "file_extension": ".py",
   "mimetype": "text/x-python",
   "name": "python",
   "nbconvert_exporter": "python",
   "pygments_lexer": "ipython3",
   "version": "3.8.16"
  }
 },
 "nbformat": 4,
 "nbformat_minor": 5
}
