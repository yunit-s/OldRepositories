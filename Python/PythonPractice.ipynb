{
 "cells": [
  {
   "cell_type": "markdown",
   "id": "c1240903",
   "metadata": {},
   "source": [
    "# Python 기초\n",
    "\n",
    "## Python 기본 문법"
   ]
  },
  {
   "cell_type": "code",
   "execution_count": 3,
   "id": "4500c18a",
   "metadata": {},
   "outputs": [
    {
     "name": "stdout",
     "output_type": "stream",
     "text": [
      "hello\n"
     ]
    }
   ],
   "source": [
    "a = 100\n",
    "a = 'hello'\n",
    "print(a)"
   ]
  }
 ],
 "metadata": {
  "kernelspec": {
   "display_name": "Python [conda env:data_env] *",
   "language": "python",
   "name": "conda-env-data_env-py"
  },
  "language_info": {
   "codemirror_mode": {
    "name": "ipython",
    "version": 3
   },
   "file_extension": ".py",
   "mimetype": "text/x-python",
   "name": "python",
   "nbconvert_exporter": "python",
   "pygments_lexer": "ipython3",
   "version": "3.8.16"
  }
 },
 "nbformat": 4,
 "nbformat_minor": 5
}
