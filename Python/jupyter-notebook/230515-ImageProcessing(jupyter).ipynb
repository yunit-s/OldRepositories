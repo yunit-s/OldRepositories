{
 "cells": [
  {
   "cell_type": "code",
   "execution_count": 3,
   "id": "84eab3cc",
   "metadata": {},
   "outputs": [
    {
     "name": "stdout",
     "output_type": "stream",
     "text": [
      "4.6.0\n",
      "1.23.5\n"
     ]
    }
   ],
   "source": [
    "import cv2\n",
    "print(cv2.__version__)\n",
    "import numpy as np\n",
    "print(np.__version__)"
   ]
  },
  {
   "cell_type": "code",
   "execution_count": null,
   "id": "95a8563b",
   "metadata": {},
   "outputs": [],
   "source": [
    "import cv2\n",
    "import numpy as np\n",
    "image = cv2.imread('dog.jpg', -1)"
   ]
  },
  {
   "cell_type": "code",
   "execution_count": null,
   "id": "cff7cccc",
   "metadata": {},
   "outputs": [],
   "source": [
    "# 여기부터 3교시"
   ]
  },
  {
   "cell_type": "code",
   "execution_count": null,
   "id": "7745a21e",
   "metadata": {},
   "outputs": [],
   "source": [
    "import cv2\n",
    "\n",
    "# 영상을 불러온다.\n",
    "image = cv2.imread('dog.jpg', -1)\n",
    "\n",
    "# 영상의 관심영역을 설정한다. 푸른색 영역\n",
    "roi = image[:, 200:700, :]\n",
    "\n",
    "# 푸른색 영역의 이진화를 수행\n",
    "threshold_blue = cv2.threshold(roi, 200, 255, cv2.THRESH_BINARY)\n",
    "# [2] [0] = 200 (threshold 기준 값)\n",
    "#     [1] = 실제 이진화 영상\n",
    "\n",
    "# 결과 프린트\n",
    "cv2.imshow('test', threshold_blue[1])\n",
    "cv2.waitKey()\n"
   ]
  },
  {
   "cell_type": "code",
   "execution_count": 1,
   "id": "51d3d2e9",
   "metadata": {},
   "outputs": [
    {
     "data": {
      "text/plain": [
       "13"
      ]
     },
     "execution_count": 1,
     "metadata": {},
     "output_type": "execute_result"
    }
   ],
   "source": [
    "# 영상 필터링\n",
    "import cv2\n",
    "import numpy as np\n",
    "\n",
    "# 영상을 불러온다.\n",
    "image = cv2.imread('dog.jpg', -1)\n",
    "\n",
    "# 영상의 관심영역을 설정한다. 푸른색 영역\n",
    "roi = image[:, 200:700, :]\n",
    "\n",
    "# 푸른색 영역의 이진화를 수행\n",
    "threshold_blue = cv2.threshold(roi, 200, 255, cv2.THRESH_BINARY)\n",
    "# [2] [0] = 200 (threshold 기준 값)\n",
    "#     [1] = 실제 이진화 영상\n",
    "\n",
    "# ----------------------------------\n",
    "# # threshold 결과 프린트\n",
    "# cv2.imshow('test', threshold_blue[1])\n",
    "# cv2.waitKey()\n",
    "\n",
    "# ----------------------------------\n",
    "# 영상 형태학적 연산\n",
    "# np.ones(shape, dtype)\n",
    "kernel = np.ones((5, 5), dtype=np.uint8)\n",
    "erode_result = cv2.erode(threshold_blue[1], kernel)\n",
    "dilate_result = cv2.dilate(threshold_blue[1], kernel)\n",
    "\n",
    "cv2.imshow('dog_binary', threshold_blue[1])\n",
    "cv2.imshow('erosion', erode_result)\n",
    "cv2.imshow('dilation', dilate_result)\n",
    "\n",
    "# 가우시안 필터\n",
    "blur_img = cv2.GaussianBlur(image, (5, 5), 3)\n",
    "cv2.imshow('gaussian', blur_img)\n",
    "\n",
    "cv2.waitKey()\n",
    "# cv2.destroyAllWindows()\n",
    "\n",
    "# 5 x 5\n",
    "# [[1, 1, 1, 1, 1]\n",
    "# [1, 1, 1, 1, 1]\n",
    "# [1, 1, 1, 1, 1]\n",
    "# [1, 1, 1, 1, 1]\n",
    "# [1, 1, 1, 1, 1]]"
   ]
  },
  {
   "cell_type": "code",
   "execution_count": 9,
   "id": "f73d8f8b",
   "metadata": {},
   "outputs": [],
   "source": [
    "import cv2\n",
    "import numpy as np\n",
    "cv2.destroyAllWindows()"
   ]
  },
  {
   "cell_type": "code",
   "execution_count": 5,
   "id": "9b08b0d8",
   "metadata": {},
   "outputs": [
    {
     "ename": "error",
     "evalue": "OpenCV(4.6.0) C:/b/abs_d8ltn27ay8/croot/opencv-suite_1676452046667/work/modules/imgproc/src/filter.simd.hpp:3143: error: (-213:The function/feature is not implemented) Unsupported combination of buffer format (=5), and destination format (=4) in function 'cv::opt_AVX2::getLinearColumnFilter'\n",
     "output_type": "error",
     "traceback": [
      "\u001b[1;31m---------------------------------------------------------------------------\u001b[0m",
      "\u001b[1;31merror\u001b[0m                                     Traceback (most recent call last)",
      "Cell \u001b[1;32mIn[5], line 11\u001b[0m\n\u001b[0;32m      8\u001b[0m \u001b[38;5;66;03m# 영상의 관심영역을 설정한다. 푸른색 영역\u001b[39;00m\n\u001b[0;32m      9\u001b[0m roi \u001b[38;5;241m=\u001b[39m image[:, \u001b[38;5;241m200\u001b[39m:\u001b[38;5;241m700\u001b[39m, \u001b[38;5;241m0\u001b[39m]\n\u001b[1;32m---> 11\u001b[0m x_edge \u001b[38;5;241m=\u001b[39m \u001b[43mcv2\u001b[49m\u001b[38;5;241;43m.\u001b[39;49m\u001b[43mSobel\u001b[49m\u001b[43m(\u001b[49m\u001b[43mroi\u001b[49m\u001b[43m,\u001b[49m\u001b[43m \u001b[49m\u001b[43mcv2\u001b[49m\u001b[38;5;241;43m.\u001b[39;49m\u001b[43mCV_32S\u001b[49m\u001b[43m,\u001b[49m\u001b[43m \u001b[49m\u001b[38;5;241;43m1\u001b[39;49m\u001b[43m,\u001b[49m\u001b[43m \u001b[49m\u001b[38;5;241;43m0\u001b[39;49m\u001b[43m,\u001b[49m\u001b[43m \u001b[49m\u001b[43m(\u001b[49m\u001b[38;5;241;43m3\u001b[39;49m\u001b[43m,\u001b[49m\u001b[43m \u001b[49m\u001b[38;5;241;43m3\u001b[39;49m\u001b[43m)\u001b[49m\u001b[43m,\u001b[49m\u001b[43m \u001b[49m\u001b[38;5;241;43m3\u001b[39;49m\u001b[43m)\u001b[49m\n\u001b[0;32m     13\u001b[0m cv2\u001b[38;5;241m.\u001b[39mimshow(\u001b[38;5;124m'\u001b[39m\u001b[38;5;124medge\u001b[39m\u001b[38;5;124m'\u001b[39m, x_edge)\n\u001b[0;32m     14\u001b[0m cv2\u001b[38;5;241m.\u001b[39mwaitKey()\n",
      "\u001b[1;31merror\u001b[0m: OpenCV(4.6.0) C:/b/abs_d8ltn27ay8/croot/opencv-suite_1676452046667/work/modules/imgproc/src/filter.simd.hpp:3143: error: (-213:The function/feature is not implemented) Unsupported combination of buffer format (=5), and destination format (=4) in function 'cv::opt_AVX2::getLinearColumnFilter'\n"
     ]
    }
   ],
   "source": [
    "# 영상 소벨 필터링\n",
    "import cv2\n",
    "import numpy as np\n",
    "\n",
    "# 영상을 불러온다.\n",
    "image = cv2.imread('dog.jpg', -1)\n",
    "\n",
    "# 영상의 관심영역을 설정한다. 푸른색 영역\n",
    "roi = image[:, 200:700, 0]\n",
    "\n",
    "x_edge = cv2.Sobel(roi, cv2.CV_32S, 1, 0, (3, 3), 3)\n",
    "\n",
    "cv2.imshow('edge', x_edge)\n",
    "cv2.waitKey()"
   ]
  },
  {
   "cell_type": "code",
   "execution_count": 6,
   "id": "8be7c121",
   "metadata": {},
   "outputs": [
    {
     "data": {
      "text/plain": [
       "13"
      ]
     },
     "execution_count": 6,
     "metadata": {},
     "output_type": "execute_result"
    }
   ],
   "source": [
    "import cv2\n",
    "import numpy as np\n",
    "\n",
    "# 영상을 불러온다.\n",
    "image = cv2.imread('dog.jpg', -1)\n",
    "\n",
    "# -------------------------------------\n",
    "# # 영상의 관심영역을 설정한다. 푸른색 영역\n",
    "# roi = image[:, 200:700, 0]\n",
    "\n",
    "# x_edge = cv2.Sobel(roi, cv2.CV_32S, 1, 0, (3, 3), 3)\n",
    "# x_edge = cv2.convertScaleAbs(x_edge)\n",
    "\n",
    "# cv2.imshow('edge', x_edge)\n",
    "# cv2.waitKey()\n",
    "\n",
    "\n",
    "\n",
    "# -------------------------------------\n",
    "# # 영상의 관심영역을 설정한다. 푸른색 영역\n",
    "gray = cv2.cvtColor(image, cv2.COLOR_BGR2GRAY)\n",
    "x_edge = cv2.Sobel(gray, cv2.CV_32F, 1, 0, 3, 1)\n",
    "y_edge = cv2.Sobel(gray, cv2.CV_32F, 0, 1, 3, 1)\n",
    "x_edge = cv2.convertScaleAbs(x_edge)\n",
    "y_edge = cv2.convertScaleAbs(y_edge)\n",
    "\n",
    "cv2.imshow('edge', x_edge)\n",
    "cv2.imshow('edgey', y_edge)\n",
    "cv2.waitKey()"
   ]
  },
  {
   "cell_type": "code",
   "execution_count": 8,
   "id": "fbc6737a",
   "metadata": {},
   "outputs": [
    {
     "data": {
      "text/plain": [
       "13"
      ]
     },
     "execution_count": 8,
     "metadata": {},
     "output_type": "execute_result"
    }
   ],
   "source": [
    "import cv2\n",
    "import numpy as np\n",
    "\n",
    "# 영상을 불러온다.\n",
    "image = cv2.imread('dog.jpg', -1)\n",
    "\n",
    "# -------------------------------------\n",
    "# # 영상의 관심영역을 설정한다. 푸른색 영역\n",
    "# roi = image[:, 200:700, 0]\n",
    "\n",
    "# x_edge = cv2.Sobel(roi, cv2.CV_32S, 1, 0, (3, 3), 3)\n",
    "# x_edge = cv2.convertScaleAbs(x_edge)\n",
    "\n",
    "# cv2.imshow('edge', x_edge)\n",
    "# cv2.waitKey()\n",
    "\n",
    "\n",
    "\n",
    "# -------------------------------------\n",
    "# # 영상의 관심영역을 설정한다. 푸른색 영역\n",
    "gray = cv2.cvtColor(image, cv2.COLOR_BGR2GRAY)\n",
    "gauss = cv2.GaussianBlur(gray, (3, 3), 3)\n",
    "x_edge = cv2.Sobel(gauss, cv2.CV_32F, 1, 0, 3, 1)\n",
    "y_edge = cv2.Sobel(gauss, cv2.CV_32F, 0, 1, 3, 1)\n",
    "x_edge = cv2.convertScaleAbs(x_edge)\n",
    "y_edge = cv2.convertScaleAbs(y_edge)\n",
    "lapla = cv2.Laplacian(gray, cv2.CV_32F, ksize=3)\n",
    "lapla = cv2.convertScaleAbs(lapla)\n",
    "thresh = cv2.threshold(lapla, 80, 255, cv2.THRESH_BINARY)[1]\n",
    "dilate = cv2.dilate(thresh, kernel=np.ones((5, 5), dtype=np.uint8))\n",
    "\n",
    "cv2.imshow('gray', gray)\n",
    "# cv2.imshow('edge', x_edge)\n",
    "# cv2.imshow('edgey', y_edge)\n",
    "cv2.imshow('laplacian', lapla)\n",
    "cv2.imshow('dilate', dilate)\n",
    "\n",
    "cv2.waitKey()"
   ]
  }
 ],
 "metadata": {
  "kernelspec": {
   "display_name": "Python [conda env:data_env] *",
   "language": "python",
   "name": "conda-env-data_env-py"
  },
  "language_info": {
   "codemirror_mode": {
    "name": "ipython",
    "version": 3
   },
   "file_extension": ".py",
   "mimetype": "text/x-python",
   "name": "python",
   "nbconvert_exporter": "python",
   "pygments_lexer": "ipython3",
   "version": "3.8.16"
  }
 },
 "nbformat": 4,
 "nbformat_minor": 5
}
