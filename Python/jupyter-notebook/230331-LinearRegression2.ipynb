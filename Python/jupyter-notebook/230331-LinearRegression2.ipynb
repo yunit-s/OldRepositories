{
 "cells": [
  {
   "cell_type": "code",
   "execution_count": 2,
   "id": "8d7c999c",
   "metadata": {},
   "outputs": [
    {
     "data": {
      "text/html": [
       "<div>\n",
       "<style scoped>\n",
       "    .dataframe tbody tr th:only-of-type {\n",
       "        vertical-align: middle;\n",
       "    }\n",
       "\n",
       "    .dataframe tbody tr th {\n",
       "        vertical-align: top;\n",
       "    }\n",
       "\n",
       "    .dataframe thead th {\n",
       "        text-align: right;\n",
       "    }\n",
       "</style>\n",
       "<table border=\"1\" class=\"dataframe\">\n",
       "  <thead>\n",
       "    <tr style=\"text-align: right;\">\n",
       "      <th></th>\n",
       "      <th>Ozone</th>\n",
       "      <th>Solar.R</th>\n",
       "      <th>Wind</th>\n",
       "      <th>Temp</th>\n",
       "      <th>Month</th>\n",
       "      <th>Day</th>\n",
       "    </tr>\n",
       "  </thead>\n",
       "  <tbody>\n",
       "    <tr>\n",
       "      <th>0</th>\n",
       "      <td>41.0</td>\n",
       "      <td>190.0</td>\n",
       "      <td>7.4</td>\n",
       "      <td>67</td>\n",
       "      <td>5</td>\n",
       "      <td>1</td>\n",
       "    </tr>\n",
       "    <tr>\n",
       "      <th>1</th>\n",
       "      <td>36.0</td>\n",
       "      <td>118.0</td>\n",
       "      <td>8.0</td>\n",
       "      <td>72</td>\n",
       "      <td>5</td>\n",
       "      <td>2</td>\n",
       "    </tr>\n",
       "    <tr>\n",
       "      <th>2</th>\n",
       "      <td>12.0</td>\n",
       "      <td>149.0</td>\n",
       "      <td>12.6</td>\n",
       "      <td>74</td>\n",
       "      <td>5</td>\n",
       "      <td>3</td>\n",
       "    </tr>\n",
       "    <tr>\n",
       "      <th>3</th>\n",
       "      <td>18.0</td>\n",
       "      <td>313.0</td>\n",
       "      <td>11.5</td>\n",
       "      <td>62</td>\n",
       "      <td>5</td>\n",
       "      <td>4</td>\n",
       "    </tr>\n",
       "    <tr>\n",
       "      <th>4</th>\n",
       "      <td>NaN</td>\n",
       "      <td>NaN</td>\n",
       "      <td>14.3</td>\n",
       "      <td>56</td>\n",
       "      <td>5</td>\n",
       "      <td>5</td>\n",
       "    </tr>\n",
       "  </tbody>\n",
       "</table>\n",
       "</div>"
      ],
      "text/plain": [
       "   Ozone  Solar.R  Wind  Temp  Month  Day\n",
       "0   41.0    190.0   7.4    67      5    1\n",
       "1   36.0    118.0   8.0    72      5    2\n",
       "2   12.0    149.0  12.6    74      5    3\n",
       "3   18.0    313.0  11.5    62      5    4\n",
       "4    NaN      NaN  14.3    56      5    5"
      ]
     },
     "metadata": {},
     "output_type": "display_data"
    }
   ],
   "source": [
    "# ozone.zip\n",
    "# 종속변수(target) : Ozone(오존량)\n",
    "#     오존량은 linear regression이다.\n",
    "# 독립변수(feature) : Solar.R(태양광), Wind(바람), Temp(온도), Month(월), Day(일)\n",
    "\n",
    "# 온도에 따른 오존량을 학습시켜 보자.\n",
    "\n",
    "# 필요한 module 불러오기\n",
    "import numpy as np\n",
    "import pandas as pd\n",
    "from tensorflow.keras.models import Sequential\n",
    "from tensorflow.keras.layers import Flatten, Dense\n",
    "from tensorflow.keras.optimizers import SGD\n",
    "import matplotlib.pyplot as plt\n",
    "\n",
    "# Raw Data Loading\n",
    "df = pd.read_csv('./data/ozone.csv')\n",
    "display(df.head())\n"
   ]
  },
  {
   "cell_type": "code",
   "execution_count": 3,
   "id": "7d59c394",
   "metadata": {},
   "outputs": [
    {
     "data": {
      "text/html": [
       "<div>\n",
       "<style scoped>\n",
       "    .dataframe tbody tr th:only-of-type {\n",
       "        vertical-align: middle;\n",
       "    }\n",
       "\n",
       "    .dataframe tbody tr th {\n",
       "        vertical-align: top;\n",
       "    }\n",
       "\n",
       "    .dataframe thead th {\n",
       "        text-align: right;\n",
       "    }\n",
       "</style>\n",
       "<table border=\"1\" class=\"dataframe\">\n",
       "  <thead>\n",
       "    <tr style=\"text-align: right;\">\n",
       "      <th></th>\n",
       "      <th>Ozone</th>\n",
       "      <th>Temp</th>\n",
       "    </tr>\n",
       "  </thead>\n",
       "  <tbody>\n",
       "    <tr>\n",
       "      <th>0</th>\n",
       "      <td>41.0</td>\n",
       "      <td>67</td>\n",
       "    </tr>\n",
       "    <tr>\n",
       "      <th>1</th>\n",
       "      <td>36.0</td>\n",
       "      <td>72</td>\n",
       "    </tr>\n",
       "    <tr>\n",
       "      <th>2</th>\n",
       "      <td>12.0</td>\n",
       "      <td>74</td>\n",
       "    </tr>\n",
       "    <tr>\n",
       "      <th>3</th>\n",
       "      <td>18.0</td>\n",
       "      <td>62</td>\n",
       "    </tr>\n",
       "    <tr>\n",
       "      <th>4</th>\n",
       "      <td>NaN</td>\n",
       "      <td>56</td>\n",
       "    </tr>\n",
       "  </tbody>\n",
       "</table>\n",
       "</div>"
      ],
      "text/plain": [
       "   Ozone  Temp\n",
       "0   41.0    67\n",
       "1   36.0    72\n",
       "2   12.0    74\n",
       "3   18.0    62\n",
       "4    NaN    56"
      ]
     },
     "metadata": {},
     "output_type": "display_data"
    },
    {
     "data": {
      "text/html": [
       "<div>\n",
       "<style scoped>\n",
       "    .dataframe tbody tr th:only-of-type {\n",
       "        vertical-align: middle;\n",
       "    }\n",
       "\n",
       "    .dataframe tbody tr th {\n",
       "        vertical-align: top;\n",
       "    }\n",
       "\n",
       "    .dataframe thead th {\n",
       "        text-align: right;\n",
       "    }\n",
       "</style>\n",
       "<table border=\"1\" class=\"dataframe\">\n",
       "  <thead>\n",
       "    <tr style=\"text-align: right;\">\n",
       "      <th></th>\n",
       "      <th>Ozone</th>\n",
       "      <th>Temp</th>\n",
       "    </tr>\n",
       "  </thead>\n",
       "  <tbody>\n",
       "    <tr>\n",
       "      <th>0</th>\n",
       "      <td>41.0</td>\n",
       "      <td>67</td>\n",
       "    </tr>\n",
       "    <tr>\n",
       "      <th>1</th>\n",
       "      <td>36.0</td>\n",
       "      <td>72</td>\n",
       "    </tr>\n",
       "    <tr>\n",
       "      <th>2</th>\n",
       "      <td>12.0</td>\n",
       "      <td>74</td>\n",
       "    </tr>\n",
       "    <tr>\n",
       "      <th>3</th>\n",
       "      <td>18.0</td>\n",
       "      <td>62</td>\n",
       "    </tr>\n",
       "    <tr>\n",
       "      <th>5</th>\n",
       "      <td>28.0</td>\n",
       "      <td>66</td>\n",
       "    </tr>\n",
       "  </tbody>\n",
       "</table>\n",
       "</div>"
      ],
      "text/plain": [
       "   Ozone  Temp\n",
       "0   41.0    67\n",
       "1   36.0    72\n",
       "2   12.0    74\n",
       "3   18.0    62\n",
       "5   28.0    66"
      ]
     },
     "metadata": {},
     "output_type": "display_data"
    },
    {
     "data": {
      "text/plain": [
       "(116, 2)"
      ]
     },
     "metadata": {},
     "output_type": "display_data"
    }
   ],
   "source": [
    "# 데이터 전처리\n",
    "#     결측치는 머신러닝에서 계산이 제대로 안 될 수 있다.\n",
    "#     이러한 데이터들을 가공하는 것을 데이터 전처리라고 한다.\n",
    "df = df[['Ozone', 'Temp']]\n",
    "display(df.head())\n",
    "df = df.dropna(how='any') # how='any' : 모두 지우기\n",
    "display(df.head(), df.shape) # (116, 2)\n"
   ]
  },
  {
   "cell_type": "code",
   "execution_count": 15,
   "id": "30bf16b2",
   "metadata": {},
   "outputs": [
    {
     "data": {
      "text/plain": [
       "<keras.callbacks.History at 0x1479e0dca90>"
      ]
     },
     "execution_count": 15,
     "metadata": {},
     "output_type": "execute_result"
    }
   ],
   "source": [
    "# Training Data Set\n",
    "\n",
    "# feature : Temp\n",
    "# target : Ozone\n",
    "# 둘 다 2차원 ndarray 형태로 만들어야 한다.\n",
    "x_data = df['Temp'].values.reshape(-1, 1)\n",
    "t_data = df['Ozone'].values.reshape(-1, 1)\n",
    "\n",
    "# Model\n",
    "keras_model = Sequential()\n",
    "\n",
    "# Layer\n",
    "input_layer = Flatten(input_shape=(1,))\n",
    "output_layer = Dense(1, activation='linear')\n",
    "#     activation : b를 더한 뒤 취해야할 행동\n",
    "#     activation='linear' : 아무런 행동도 하지 않고 그대로 출력하기\n",
    "\n",
    "# Model에 layer를 추가\n",
    "keras_model.add(input_layer)\n",
    "keras_model.add(output_layer)\n",
    "\n",
    "# Model 설정\n",
    "keras_model.compile(optimizer=SGD(learning_rate=1e-4), loss='mse') # 1e-4 : 10^(-4)\n",
    "\n",
    "# Model 학습\n",
    "keras_model.fit(x_data,\n",
    "               t_data,\n",
    "               epochs=2000,\n",
    "               verbose=0)\n",
    "#     verbose=0 : 학습 내용 출력 안 함\n",
    "#     출력 : <keras.callbacks.History at 0x1d52dff1ee0>\n"
   ]
  },
  {
   "cell_type": "code",
   "execution_count": 14,
   "id": "ddcbc035",
   "metadata": {},
   "outputs": [],
   "source": [
    "# 학습이 끝났으면 모델 평가가 이루어져야 한다.\n",
    "# 우리가 아직 평가를 할 줄 몰라!\n",
    "# 일단 그냥 넘어가자!\n"
   ]
  },
  {
   "cell_type": "code",
   "execution_count": 17,
   "id": "8af9a498",
   "metadata": {},
   "outputs": [
    {
     "name": "stdout",
     "output_type": "stream",
     "text": [
      "1/1 [==============================] - 0s 28ms/step\n",
      "[[38.20054]]\n"
     ]
    }
   ],
   "source": [
    "# 평가가 잘 이루어졌다고 치고!\n",
    "# 모델이 잘 만들어졌으면 예측해보아요!\n",
    "result = keras_model.predict([[62]]) # 화씨 62인 경우 오존량은 얼마인가요?\n",
    "print(result)\n",
    "# 출력\n",
    "#     1/1 [==============================] - 0s 28ms/step\n",
    "#     [[38.20054]]\n",
    "\n",
    "# 결과가 나오긴 했는데, 정답인지 아닌지 알 수가 없다.\n"
   ]
  },
  {
   "cell_type": "code",
   "execution_count": 21,
   "id": "db568238",
   "metadata": {},
   "outputs": [
    {
     "name": "stdout",
     "output_type": "stream",
     "text": [
      "[[3.58411393]]\n"
     ]
    },
    {
     "data": {
      "image/png": "[encoded data removed]",
      "text/plain": [
       "<Figure size 640x480 with 1 Axes>"
      ]
     },
     "metadata": {},
     "output_type": "display_data"
    }
   ],
   "source": [
    "# 그래서... 잘 만들어진 라이브러리를 이용해서 정답에 가까운 값을 알아볼 거예요.\n",
    "# 우리 모델과 비교해보자\n",
    "# sklearn 설치\n",
    "from sklearn import linear_model\n",
    "# 설치 안 되어 있으면 아래 명령어로 설치\n",
    "#     conda activate data_env\n",
    "#     conda install scikit-learn\n",
    "\n",
    "# x_data, t_data는 이미 가지고 있다.\n",
    "\n",
    "# model을 만들어보자\n",
    "sklearn_model = linear_model.LinearRegression()\n",
    "\n",
    "# 학습 진행\n",
    "sklearn_model.fit(x_data, t_data)\n",
    "\n",
    "# 예측\n",
    "result_sklearn = sklearn_model.predict([[62]])\n",
    "print(result_sklearn)\n",
    "\n",
    "# 눈으로 확인해보자. 산점도(scatter)와 직선(model) 그리기\n",
    "plt.scatter(x_data, t_data) # 산점도\n",
    "\n",
    "weight = sklearn_model.coef_ # coef_ : 모델이 가지고 있는 w값\n",
    "bias = sklearn_model.intercept_ # intercept_ :\n",
    "\n",
    "# plt.plot(x_data, x_data * weight + bias) # 직선 그리기\n",
    "plt.plot(x_data, x_data * weight + bias, color = 'r') # 직선 그리기\n",
    "\n",
    "plt.show()\n"
   ]
  },
  {
   "cell_type": "code",
   "execution_count": 25,
   "id": "fb027a87",
   "metadata": {},
   "outputs": [
    {
     "name": "stdout",
     "output_type": "stream",
     "text": [
      "1/1 [==============================] - 0s 42ms/step\n",
      "[[38.20054]]\n"
     ]
    },
    {
     "data": {
      "text/plain": [
       "[<matplotlib.lines.Line2D at 0x1479e3be760>]"
      ]
     },
     "execution_count": 25,
     "metadata": {},
     "output_type": "execute_result"
    },
    {
     "data": {
      "image/png": "[encoded data removed]",
      "text/plain": [
       "<Figure size 640x480 with 1 Axes>"
      ]
     },
     "metadata": {},
     "output_type": "display_data"
    }
   ],
   "source": [
    "# 이제 scikit-learn 데이터 말고, 우리가 예측했던 모델을 확인해보자.\n",
    "\n",
    "result = keras_model.predict([[62]]) # 화씨 62인 경우 오존량은 얼마인가요?\n",
    "print(result)\n",
    "# 출력\n",
    "#     1/1 [==============================] - 0s 28ms/step\n",
    "#     [[38.20054]]\n",
    "\n",
    "x_data = df['Temp'].values.reshape(-1, 1)\n",
    "t_data = df['Ozone'].values.reshape(-1, 1)\n",
    "plt.scatter(x_data, t_data)\n",
    "weight, bias = output_layer.get_weights()\n",
    "plt.plot(x_data, x_data * weight + bias, color = 'm')\n",
    "plt.show()\n",
    "\n",
    "# 어떻게 보면, 얼추 된 것 같아보이는 직선이다.\n",
    "# 그런데 scikit-learn때와는 달리 활씬 결과물이 안 좋은 상황이다.\n",
    "# 그렇다면 이상한 결과를 얻은 이유. 왜 그럴까?\n"
   ]
  },
  {
   "cell_type": "code",
   "execution_count": 27,
   "id": "3e23ebab",
   "metadata": {},
   "outputs": [],
   "source": [
    "# 제대로 된 결과를 얻지 못한 이유\n",
    "#     데이터를 잘못 넣은 거다.\n",
    "#     데이터의 전처리가 제대로 이뤄지지 않은 것.\n",
    "#     우리의 모델이 잘못된 게 아닌 거지.\n",
    "# sklearn은 알아서 데이터처리까지 다 했기때문에 결과가 잘 나오는 것.\n",
    "\n",
    "# 우리가 기억해야 하는 데이터의 전처리 과정 3가지\n",
    "#     (원래는 더 많고, 수학적으로 접근해야 한다.)\n",
    "# 1. 결측치 처리\n",
    "#     이건 했다. 냅다 삭제해버렸음.\n",
    "# 2. 이상치 처리\n",
    "#     이건 아직 안 했다. 그런데 이걸 잘 챙기려면 시간이 한참 걸린다.\n",
    "#     그리고 우리들의 데이터가 잘못된 이유 중 큰 영향을 끼치지는 않았기 때문.(이상치가 하나 뿐이니까)\n",
    "# 3. 정규화(Normalization)\n",
    "#     데이터는 반드시 정규화시켜야 한다.\n",
    "#     feature마다 scale이 다르기 때문.\n",
    "#         ex. 아파트의 가격에 영향을 크게 미치는 건 연식이 아니라 방의 개수, 크기이다.\n",
    "#         그런데 연식은 숫자의 범위가 커도 영향이 작고, 방은 숫자의 범위가 작은데 영향이 큰 것.\n",
    "#     min-max scaling을 이용하자. 최댓값 1, 최솟값 0 사이의 값으로 값을 변환하자.\n"
   ]
  },
  {
   "cell_type": "code",
   "execution_count": 29,
   "id": "66538064",
   "metadata": {},
   "outputs": [
    {
     "data": {
      "text/plain": [
       "<keras.callbacks.History at 0x147a498de80>"
      ]
     },
     "execution_count": 29,
     "metadata": {},
     "output_type": "execute_result"
    }
   ],
   "source": [
    "# 위 코드 그대로 가져와서 다시 해보자\n",
    "\n",
    "# Training Data Set\n",
    "\n",
    "# feature : Temp\n",
    "# target : Ozone\n",
    "# 둘 다 2차원 ndarray 형태로 만들어야 한다.\n",
    "x_data = df['Temp'].values.reshape(-1, 1)\n",
    "t_data = df['Ozone'].values.reshape(-1, 1)\n",
    "\n",
    "# 데이터 전처리\n",
    "from sklearn.preprocessing import MinMaxScaler\n",
    "scaler_x = MinMaxScaler()\n",
    "scaler_x.fit(x_data) # scaler_x에게 x데이터가 가지고 있는 최대 최소값을 아려준다.\n",
    "x_data_norm = scaler_x.transform(x_data)# 원래 데이터에서 최대 최소값을 가지고서 정규화\n",
    "scaler_t = MinMaxScaler()\n",
    "scaler_t.fit(t_data) # scaler_t에게 t데이터가 가지고 있는 최대 최소값을 아려준다.\n",
    "t_data_norm = scaler_t.transform(t_data)# 원래 데이터에서 최대 최소값을 가지고서 정규화\n",
    "\n",
    "\n",
    "# Model\n",
    "keras_model = Sequential()\n",
    "\n",
    "# Layer\n",
    "input_layer = Flatten(input_shape=(1,))\n",
    "output_layer = Dense(1, activation='linear')\n",
    "#     activation : b를 더한 뒤 취해야할 행동\n",
    "#     activation='linear' : 아무런 행동도 하지 않고 그대로 출력하기\n",
    "\n",
    "# Model에 layer를 추가\n",
    "keras_model.add(input_layer)\n",
    "keras_model.add(output_layer)\n",
    "\n",
    "# Model 설정\n",
    "keras_model.compile(optimizer=SGD(learning_rate=1e-4), loss='mse') # 1e-4 : 10^(-4)\n",
    "\n",
    "# Model 학습\n",
    "keras_model.fit(x_data_norm,\n",
    "               t_data_norm,\n",
    "               epochs=2000,\n",
    "               verbose=0)\n",
    "#     verbose=0 : 학습 내용 출력 안 함\n",
    "#     출력 : <keras.callbacks.History at 0x147a498de80>\n"
   ]
  },
  {
   "cell_type": "code",
   "execution_count": 38,
   "id": "01a30d24",
   "metadata": {},
   "outputs": [
    {
     "name": "stdout",
     "output_type": "stream",
     "text": [
      "1/1 [==============================] - 0s 26ms/step\n",
      "[[48.486176]]\n",
      "1/1 [==============================] - 0s 15ms/step\n",
      "[[-0.04164609]]\n",
      "[[21.875]]\n"
     ]
    },
    {
     "data": {
      "image/png": "[encoded data removed]",
      "text/plain": [
       "<Figure size 640x480 with 1 Axes>"
      ]
     },
     "metadata": {},
     "output_type": "display_data"
    }
   ],
   "source": [
    "# 이제 그래프를 그려보자\n",
    "\n",
    "# 기존 결과값\n",
    "result = keras_model.predict([[62]]) # 화씨 62인 경우 오존량은 얼마인가요?\n",
    "print(result)\n",
    "# 출력\n",
    "#     1/1 [==============================] - 0s 26ms/step\n",
    "#     [[38.20054]] -> [[48.486176]]\n",
    "\n",
    "# 예측값도 스케일링하자\n",
    "scaled_data = scaler_x.transform([[62]])\n",
    "result = keras_model.predict(scaled_data) # 화씨 62인 경우 오존량은 얼마인가요?\n",
    "print(result)\n",
    "# 출력\n",
    "#     1/1 [==============================] - 0s 15ms/step\n",
    "#     [[-0.04164609]]\n",
    "#     [[-0.04164609]] 이 값은 오존값이긴 한데, scaling 되어 있는 값이다.\n",
    "#     따라서 원복시켜야 한다.\n",
    "real_result = scaler_t.inverse_transform(scaled_data)\n",
    "print(real_result)\n",
    "# 출력 : [[21.875]]\n",
    "\n",
    "plt.scatter(x_data_norm, t_data_norm)\n",
    "weight, bias = output_layer.get_weights()\n",
    "plt.plot(x_data_norm, x_data_norm * weight + bias, color = 'm')\n",
    "plt.show()\n"
   ]
  }
 ],
 "metadata": {
  "kernelspec": {
   "display_name": "Python [conda env:data_env] *",
   "language": "python",
   "name": "conda-env-data_env-py"
  },
  "language_info": {
   "codemirror_mode": {
    "name": "ipython",
    "version": 3
   },
   "file_extension": ".py",
   "mimetype": "text/x-python",
   "name": "python",
   "nbconvert_exporter": "python",
   "pygments_lexer": "ipython3",
   "version": "3.8.16"
  }
 },
 "nbformat": 4,
 "nbformat_minor": 5
}
