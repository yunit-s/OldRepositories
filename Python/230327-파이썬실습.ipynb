{
 "cells": [
  {
   "cell_type": "code",
   "execution_count": 2,
   "metadata": {
    "colab": {
     "base_uri": "https://localhost:8080/",
     "height": 73
    },
    "executionInfo": {
     "elapsed": 316,
     "status": "ok",
     "timestamp": 1679879142503,
     "user": {
      "displayName": "Yunhyeong Lee",
      "userId": "09388886162175807131"
     },
     "user_tz": -540
    },
    "id": "fDKy0AnMfCzT",
    "outputId": "2798437f-9149-4954-8fd0-17c5ca14d210"
   },
   "outputs": [
    {
     "name": "stdout",
     "output_type": "stream",
     "text": [
      "파이썬에서 문자열을 표현할 때는 큰 따옴표, 작은 따옴표 모두 가능하다. 작은 따옴표가 default다. \n",
      "세미콜론도 필요 없다.\n"
     ]
    },
    {
     "data": {
      "application/vnd.google.colaboratory.intrinsic+json": {
       "type": "string"
      },
      "text/plain": [
       "'\\n여러 줄 주석. \\n'"
      ]
     },
     "execution_count": 2,
     "metadata": {},
     "output_type": "execute_result"
    }
   ],
   "source": [
    "# 1교시 ---------------------------------------------------------\n",
    "\n",
    "# 이 상자를 Cell 이라고 부른다.\n",
    "# Cell을 실행시키려면 ctrl + enter\n",
    "# 새로운 cell을 아래쪽에 추가하려면?\n",
    "# -> b\n",
    "# 새로운 cell을 위쪽에 추가하려면?\n",
    "# -> a\n",
    "print('파이썬에서 문자열을 표현할 때는 큰 따옴표, 작은 따옴표 모두 가능하다. 작은 따옴표가 default다. ')\n",
    "print('세미콜론도 필요 없다.')\n"
   ]
  },
  {
   "cell_type": "code",
   "execution_count": 16,
   "metadata": {
    "colab": {
     "base_uri": "https://localhost:8080/",
     "height": 36
    },
    "executionInfo": {
     "elapsed": 4,
     "status": "ok",
     "timestamp": 1679879378059,
     "user": {
      "displayName": "Yunhyeong Lee",
      "userId": "09388886162175807131"
     },
     "user_tz": -540
    },
    "id": "78W8KQlHhpMb",
    "outputId": "3417fff5-d83c-47f5-a3dd-5c577c812f3c"
   },
   "outputs": [
    {
     "data": {
      "application/vnd.google.colaboratory.intrinsic+json": {
       "type": "string"
      },
      "text/plain": [
       "'\\n그런데 프로그래밍에서는 가급적 강제로 삭제하지 않는다.\\n  어차피 garbage collector가 가져가는데 굳이?\\n  괜히 오류만 만들어낼 수 있음\\n'"
      ]
     },
     "execution_count": 16,
     "metadata": {},
     "output_type": "execute_result"
    }
   ],
   "source": [
    "# 2교시 ---------------------------------------------------------\n",
    "\n",
    "# 한 줄 주석\n",
    "'''\n",
    "여러 줄 주석. \n",
    "'''\n",
    "\n",
    "# 변수 만들기\n",
    "a = 100\n",
    "a = 3.14\n",
    "a = '안녕'\n",
    "\n",
    "# 변수 삭제\n",
    "'''\n",
    "그런데 프로그래밍에서는 가급적 강제로 삭제하지 않는다.\n",
    "  어차피 garbage collector가 가져가는데 굳이?\n",
    "  괜히 오류만 만들어낼 수 있음\n",
    "'''\n",
    "# del a #변수를 강제로 삭제"
   ]
  },
  {
   "cell_type": "code",
   "execution_count": 17,
   "metadata": {
    "colab": {
     "base_uri": "https://localhost:8080/"
    },
    "executionInfo": {
     "elapsed": 324,
     "status": "ok",
     "timestamp": 1679879380475,
     "user": {
      "displayName": "Yunhyeong Lee",
      "userId": "09388886162175807131"
     },
     "user_tz": -540
    },
    "id": "yzKWn60am4Go",
    "outputId": "8605feb9-37d3-4319-daba-4f64d8d03ffe"
   },
   "outputs": [
    {
     "name": "stdout",
     "output_type": "stream",
     "text": [
      "안녕\n"
     ]
    }
   ],
   "source": [
    "print(a)\n",
    "  # 다른 cell 에서 선언했던 변수여도 접근 가능하다. 메모리를 공유하기 때문"
   ]
  },
  {
   "cell_type": "code",
   "execution_count": null,
   "metadata": {
    "id": "H33nUwKwngJl"
   },
   "outputs": [],
   "source": [
    "# Python의 built-in data type 6가지(범주 라고 부른다.)\n",
    "\n",
    "# 1. Numeric(숫자)\n",
    "# 2. Sequence\n",
    "# 3. Text Sequence\n",
    "# 4. Mapping\n",
    "# 5. Set\n",
    "# 6. Bool"
   ]
  },
  {
   "cell_type": "code",
   "execution_count": 22,
   "metadata": {
    "colab": {
     "base_uri": "https://localhost:8080/"
    },
    "executionInfo": {
     "elapsed": 351,
     "status": "ok",
     "timestamp": 1679880081709,
     "user": {
      "displayName": "Yunhyeong Lee",
      "userId": "09388886162175807131"
     },
     "user_tz": -540
    },
    "id": "hi2EXlI1ocVZ",
    "outputId": "bdbbad94-609b-41e0-8be8-b6274ac1cb41"
   },
   "outputs": [
    {
     "name": "stdout",
     "output_type": "stream",
     "text": [
      "<class 'int'>\n",
      "<class 'float'>\n",
      "0.75\n"
     ]
    }
   ],
   "source": [
    "# 1. Numeric(숫자)\n",
    "# 정수, 실수, 복소수, 진수(8진수, 16진수)\n",
    "a = 123               # 정수\n",
    "b = 3.14159265358979  # 실수\n",
    "\n",
    "# type 함수\n",
    "print(type(a)) # 출력 : <class 'int'>\n",
    "  # 파이썬 안에는 int 라는 클래스가 존재하는 것. 그리고 a가 객체다.\n",
    "  # 파이썬에는 primitive 타입같은 게 없고, 모두 객체다.\n",
    "print(type(b))  # 출력 : <class 'float'>\n",
    "\n",
    "# 나눗셈\n",
    "result = 3 / 4 # java에서의 출력 0\n",
    "print(result) # 출력 : 0.75\n",
    "'''\n",
    "모든 프로그래밍 언어는 동일한 데이터 타입끼리 연산한다.\n",
    "파이썬 안에서 정수, 실수를 나누기는 하는데, 연산에 들어가면 모두 실수로 취급해서 계산한다.\n",
    "따라서 그 결과는 무조건 실수로 나온다.\n",
    "'''"
   ]
  },
  {
   "cell_type": "code",
   "execution_count": 24,
   "metadata": {
    "colab": {
     "base_uri": "https://localhost:8080/"
    },
    "executionInfo": {
     "elapsed": 413,
     "status": "ok",
     "timestamp": 1679880915563,
     "user": {
      "displayName": "Yunhyeong Lee",
      "userId": "09388886162175807131"
     },
     "user_tz": -540
    },
    "id": "YWYkV-0lqlrg",
    "outputId": "6319ce50-8a86-4c2f-caa0-89d09250dd3e"
   },
   "outputs": [
    {
     "name": "stdout",
     "output_type": "stream",
     "text": [
      "<class 'list'>\n",
      "[1, 2, 3, [3.14, 5.25, 100], 4, 5]\n"
     ]
    }
   ],
   "source": [
    "# Sequence built-in data type\n",
    "# 파이썬에서는 자료구조도 데이터 타입으로 취급한다.\n",
    "# Sequence에는 3가지가 있다.\n",
    "\n",
    "#   list (python의 가장 중요한 자료구조이자 data type)\n",
    "#     객체를 순서대로 저장하는 집합형 자료구조\n",
    "#     Java의 ArrayList와 상당히 유사하다.\n",
    "#   literal은 어떻게 되나요?\n",
    "#     (literal : 코드를 표현하는 방식)\n",
    "#     -> [] 대괄호\n",
    "#     파이썬에는 배열 개념이 없다.\n",
    "#     함수 호출하듯 적으면 new 를 사용하는 것과 비슷하게 만들어진다.\n",
    "myList1 = list() # 요소가 없는 list 객체 생성\n",
    "myList = [1, 3.14, 100] # literal로 list 표현하기\n",
    "print(type(myList)) # 출력 : <class 'list'>\n",
    "\n",
    "# 중첩 리스트\n",
    "# 2차원 리스트 이런 용어 없다. 그냥 중첩됐으면 중첩 리스트라고 부른다.\n",
    "myList = [1, 2, 3, [3.14, 5.25, 100], 4, 5]\n",
    "print(myList) # 출력 : [1, 2, 3, [3.14, 5.25, 100], 4, 5]"
   ]
  },
  {
   "cell_type": "code",
   "execution_count": 29,
   "metadata": {
    "colab": {
     "base_uri": "https://localhost:8080/"
    },
    "executionInfo": {
     "elapsed": 2,
     "status": "ok",
     "timestamp": 1679882602496,
     "user": {
      "displayName": "Yunhyeong Lee",
      "userId": "09388886162175807131"
     },
     "user_tz": -540
    },
    "id": "WQNFIiOItVUE",
    "outputId": "59124d98-ee6c-4963-b9c9-1a41022214d2"
   },
   "outputs": [
    {
     "name": "stdout",
     "output_type": "stream",
     "text": [
      "1\n",
      "5\n",
      "100\n",
      "[1, 2]\n",
      "[1]\n",
      "[2, 3, [3.14, 5.25, 100], 4, 5]\n",
      "[1, 2]\n"
     ]
    }
   ],
   "source": [
    "# 파이썬의 리스트\n",
    "print(myList[0]) # 출력 : 1 (indexing이 가능하다.\n",
    "print(myList[-1]) # 출력 : 5 (indexing에 -가 있으면, 뒤에서부터 센다.)\n",
    "print(myList[3][2]) # 출력 : 100 (indexing이 가능하다.)\n",
    "# print(myList[3, 2]); # numpy 에서 사용되는 문법. 의미가 조금 다르다.\n",
    "\n",
    "# Slicing\n",
    "# 자료구조에서 데이터 잘라오기\n",
    "# 원본 데이터와 잘라낸 결과물 데이터가 데이터 타입이 무조건 같다.\n",
    "print(myList[0:2]) # indexing 대신 : 이 들어왔다. 0번째부터 2번째 전까지만 출력.\n",
    "  # 앞쪽은 n번째까지 '포함' 이지만, 뒷쪽은 n번째 데이터를 '불포함'해야한다.\n",
    "print(myList[0:1]) # 출력 : [1]\n",
    "  # slicing을 했으니 기존 자료구조와 동일한 데이터타입이 나와야 한다.\n",
    "  # 따라서 그냥 숫자 1이 나오는 게 아니라 리스트 [1] 이 출력된다.\n",
    "print(myList[1:]) # 출력 : [2, 3, [3.14, 5.25, 100], 4, 5]\n",
    "  # 1번 부터 끝까지 출력하기\n",
    "print(myList[:2]) # 출력 : [1, 2]"
   ]
  },
  {
   "cell_type": "code",
   "execution_count": 32,
   "metadata": {
    "colab": {
     "base_uri": "https://localhost:8080/"
    },
    "executionInfo": {
     "elapsed": 3,
     "status": "ok",
     "timestamp": 1679882895811,
     "user": {
      "displayName": "Yunhyeong Lee",
      "userId": "09388886162175807131"
     },
     "user_tz": -540
    },
    "id": "cfjnwR840EYd",
    "outputId": "ba75d784-e620-4ed5-d514-0fb8bbdb2d97"
   },
   "outputs": [
    {
     "name": "stdout",
     "output_type": "stream",
     "text": [
      "[1, 2, 3, 4, 5, 6]\n",
      "[1, 2, 3, 1, 2, 3, 1, 2, 3]\n"
     ]
    }
   ],
   "source": [
    "# list의 연산\n",
    "a = [1, 2, 3]\n",
    "b = [4, 5, 6]\n",
    "c = a + b # + : concatenation. 리스트를 연결하기\n",
    "print(c) # 출력 : [1, 2, 3, 4, 5, 6]\n",
    "c = a * 3\n",
    "print(c) # 출력 : [1, 2, 3, 1, 2, 3, 1, 2, 3]\n",
    "\n",
    "# Vector 연산\n",
    "# 첫 번째 요소끼리, n번째 요소끼리 더하는 작업은 어떻게 할까?\n",
    "#   파이썬은 벡터 연산을 지원하지 않는다.\n"
   ]
  },
  {
   "cell_type": "code",
   "execution_count": 35,
   "metadata": {
    "colab": {
     "base_uri": "https://localhost:8080/"
    },
    "executionInfo": {
     "elapsed": 440,
     "status": "ok",
     "timestamp": 1679883141927,
     "user": {
      "displayName": "Yunhyeong Lee",
      "userId": "09388886162175807131"
     },
     "user_tz": -540
    },
    "id": "wF_gz1uE1KVe",
    "outputId": "fab350da-1633-4517-ae13-3b75b92bc9ca"
   },
   "outputs": [
    {
     "name": "stdout",
     "output_type": "stream",
     "text": [
      "[1, 2, 3, 4]\n",
      "[1, 2, 3, 4, [4, 5]]\n"
     ]
    }
   ],
   "source": [
    "# list의 메소드\n",
    "# list는 객체다. 따라서 메소드를 활용할 수 있다.\n",
    "a = [1, 2, 3]\n",
    "# append()\n",
    "#   맨 끝에 요소 밀어넣기\n",
    "a.append(4)\n",
    "print(a) # 출력 : [1, 2, 3, 4]\n",
    "a.append([4, 5])\n",
    "print(a) # 출력 : [1, 2, 3, 4, [4, 5]]\n"
   ]
  },
  {
   "cell_type": "code",
   "execution_count": 44,
   "metadata": {
    "colab": {
     "base_uri": "https://localhost:8080/"
    },
    "executionInfo": {
     "elapsed": 318,
     "status": "ok",
     "timestamp": 1679884354441,
     "user": {
      "displayName": "Yunhyeong Lee",
      "userId": "09388886162175807131"
     },
     "user_tz": -540
    },
    "id": "A8lBTQM21_sQ",
    "outputId": "4b95f917-891e-4509-98ab-165c26499c15"
   },
   "outputs": [
    {
     "name": "stdout",
     "output_type": "stream",
     "text": [
      "<class 'tuple'>\n",
      "(1,)\n",
      "3\n",
      "(3,)\n",
      "(1, 2, 3, [4, 100, 6], 7)\n",
      "1 2 3\n",
      "[1, 2, 3]\n",
      "(1, 2, 3)\n"
     ]
    }
   ],
   "source": [
    "# tuple\n",
    "\n",
    "# Sequence built-in data type에 대해 알아보고 있다.\n",
    "# 1. list\n",
    "# 2. tuple\n",
    "#   파이썬에만 존재하는 자료구조. 독특한 자료구조다.\n",
    "#   기본적으로 list와 동일하다. 그런데 tuple은 read only 속성이 있다.\n",
    "\n",
    "# tuple의 literal\n",
    "#   소괄호 ()\n",
    "a = tuple() # literal이 아니라 class를 이용해서 객체 생성\n",
    "a = (1, 2, 3, 4) # tuple 값 추가\n",
    "print(type(a)) # 출력 : <class 'tuple'>\n",
    "\n",
    "# 소괄호의 구분. tuple, 연산자 우선순위\n",
    "a = (1) # 이건 연산자 우선순위를 가리키기 위한 괄호인지, tuple인지 알 수 없다.\n",
    "a = (1,) # 요소가 한 개 짜리인 tuple\n",
    "print(a) # 출력 : (1,)\n",
    "\n",
    "# 대괄호의 구분. indexing, slicing\n",
    "a = (1, 2, 3, 4)\n",
    "print(a[2]) # 출력 : 3\n",
    "  # indexing이기 때문에 요소 자체의 데이터타입을 가져온다.\n",
    "print(a[2:3]) # 출력 : (3,)\n",
    "  # slicing을 했기 때문에 원본의 데이터타입을 그대로 가져온다.\n",
    "\n",
    "# tuple의 read only 속성\n",
    "# a[3] = 100 # 오류. a가 tuple이기 때문에 readonly 속성을 가지고 있다. 값을 바꿀 수 없음.\n",
    "a = (1, 2, 3, [4, 5, 6], 7)\n",
    "a[3][1] = 100\n",
    "  # 오류 아님. a의 요소는 전부 객체다. 레퍼런스 주소를 가지고 있다.\n",
    "  # 그래서 tuple이 가지고 있는 레퍼런스 주소는 변하지 않았기 때문에 문제가 없다.\n",
    "print(a) # 출력 : (1, 2, 3, [4, 100, 6], 7)\n",
    "\n",
    "# tuple의 기호 생략 특징\n",
    "# tuple은 기호를 생략할 수 있다.\n",
    "a = 1, 2, 3 # 오류 아님. 근데 이건 튜플로 인식한다.\n",
    "  # 튜플은 이렇게 표현하는 게 오히려 default다.\n",
    "  # 요소 한 개 짜리 tuple은 당연히 소괄호를 명시해줘야겠지\n",
    "a, b, c = 1, 2, 3 # 오류 아님\n",
    "print(a, b, c) # 출력 : 1 2 3\n",
    "\n",
    "# 이 외의 나머지 특성은 list와 유사하다.\n",
    "\n",
    "# list를 tuple로, tuple을 list로 쉽게 변경할 수 있다.\n",
    "a = (1, 2, 3)\n",
    "b = list(a)\n",
    "print(b) # 출력 : [1, 2, 3]\n",
    "c = tuple(b)\n",
    "print(c) # 출력 ; (1, 2, 3)\n"
   ]
  },
  {
   "cell_type": "code",
   "execution_count": 47,
   "metadata": {
    "colab": {
     "base_uri": "https://localhost:8080/"
    },
    "executionInfo": {
     "elapsed": 321,
     "status": "ok",
     "timestamp": 1679884807880,
     "user": {
      "displayName": "Yunhyeong Lee",
      "userId": "09388886162175807131"
     },
     "user_tz": -540
    },
    "id": "KiNxU7yw6ij_",
    "outputId": "c8339a7e-e120-4173-e02f-d4b5b2e45647"
   },
   "outputs": [
    {
     "name": "stdout",
     "output_type": "stream",
     "text": [
      "range(0, 10)\n",
      "range(2, 20, 2)\n",
      "2\n",
      "range(2, 20, 2)\n"
     ]
    }
   ],
   "source": [
    "# range\n",
    "\n",
    "# Sequence built-in data type에 대해 알아보고 있다.\n",
    "# 1. list\n",
    "# 2. tuple\n",
    "# 3. range\n",
    "\n",
    "# range는 literal로 쓰지 않는다.\n",
    "# range라는 class를 이용한다.\n",
    "a = range(10) # 0부터 시작. 10까지. 1씩 증가하는 숫자의 범위\n",
    "print(a) # 출력 : range(0, 10)\n",
    "  # 실제로 데이터를 가지고 있다면, list나 tuple로 출력되었어야 한다.\n",
    "  # 이는 즉, range는 숫자를 실제로 가지고 있지 않다는 걸 의미한다.\n",
    "a = range(100000000)\n",
    "  # 아주 큰 숫자에 대한 범위를 설정해주고 싶을 때, 아주 작은 메모리로 이를 저장할 수 있게 해주는 것\n",
    "a = range(2, 20, 2) # 2부터 시작. 20까지. 2씩 증가하는 숫자의 범위\n",
    "print(a) # 출력 : range(2, 20, 2)\n",
    "print(a[0]) # 출력 : 2\n",
    "print(a[0:]) # 출력 : range(2, 20, 2)"
   ]
  },
  {
   "cell_type": "code",
   "execution_count": 49,
   "metadata": {
    "colab": {
     "base_uri": "https://localhost:8080/"
    },
    "executionInfo": {
     "elapsed": 3,
     "status": "ok",
     "timestamp": 1679885340573,
     "user": {
      "displayName": "Yunhyeong Lee",
      "userId": "09388886162175807131"
     },
     "user_tz": -540
    },
    "id": "b5PQzUUF8o5q",
    "outputId": "4c0395f8-d618-444e-d8a0-51c02d3dde66"
   },
   "outputs": [
    {
     "name": "stdout",
     "output_type": "stream",
     "text": [
      "<class 'str'>\n",
      "홍길동\n"
     ]
    }
   ],
   "source": [
    "# Built-in data type 3번째\n",
    "#   3. Text Sequense\n",
    "\n",
    "# 문자열 정보 저장. 여기서 사용하는 클래스는 딱 하나. str\n",
    "# literal\n",
    "#   ''(default), \"\" 두 가지 다 사용할 수 있다.\n",
    "# 파이썬에는 한 글자 문자? 이런 거 없다. 그냥 문자처럼 생겼으면 모두 문자열 로 저장한다.\n",
    "a = '텍스트 시퀀스 테스트'\n",
    "print(type(a)) # <class 'str>\n",
    "\n",
    "# Text Sequence는 Sequence에서 text가 들어간 거라고 생각하면 좋다.\n",
    "# Sequence가 list를 기반으로 tuple, range가 있었듯,\n",
    "#   여기서도 list의 성질을 그대로 이어받는다.\n",
    "a = '홍'\n",
    "b = '길동'\n",
    "print(a + b) # 출력 : 홍길동\n",
    "  # 문자열은 리스트다. 리스트 + 리스트 = 리스트지. \n"
   ]
  },
  {
   "cell_type": "code",
   "execution_count": 58,
   "metadata": {
    "colab": {
     "base_uri": "https://localhost:8080/"
    },
    "executionInfo": {
     "elapsed": 402,
     "status": "ok",
     "timestamp": 1679887027274,
     "user": {
      "displayName": "Yunhyeong Lee",
      "userId": "09388886162175807131"
     },
     "user_tz": -540
    },
    "id": "XGemtoDMB8Cj",
    "outputId": "434134c2-94d6-4ca9-b803-f139009355a5"
   },
   "outputs": [
    {
     "name": "stdout",
     "output_type": "stream",
     "text": [
      "텍\n",
      "텍스트\n",
      "True\n",
      "문자열 객체가 가지고 있는 메소드\n",
      "  소 리\n"
     ]
    }
   ],
   "source": [
    "a = '텍스트 시퀀스는 리스트의 성질을 이어받는다.'\n",
    "print(a[0]) # 출력 : 텍\n",
    "print(a[0:3]) # 출력 : 텍스트\n",
    "\n",
    "# Text Sequence에서의 연산자\n",
    "# in 연산자\n",
    "print('성질' in a) # 출력 : True\n",
    "  # a 라는 문자열 안에 '성질' 라는 문자열이 있는지 확인\n",
    "  # 출력은 True, False 로 리턴된다. 맨 앞에 대문자\n",
    "\n",
    "# 문자열은 str class의 객체다. 따라서 그에 따른 많은 method들을 활용할 수 있다.\n",
    "# format 메소드\n",
    "#   {} 안에 특정 문자열을 삽입한다. 순서대로 대입된다.\n",
    "print('문자열 {}가 가지고 {} 메소드'.format('객체', '있는'))\n",
    "\n",
    "a = '이것은 소리없는'\n",
    "print(a[3], a[4], a[5])"
   ]
  },
  {
   "cell_type": "code",
   "execution_count": 68,
   "metadata": {
    "colab": {
     "base_uri": "https://localhost:8080/"
    },
    "executionInfo": {
     "elapsed": 3,
     "status": "ok",
     "timestamp": 1679887913032,
     "user": {
      "displayName": "Yunhyeong Lee",
      "userId": "09388886162175807131"
     },
     "user_tz": -540
    },
    "id": "CupfRP4xEmRN",
    "outputId": "54340f69-205b-43d4-d72f-f42a6ae53085"
   },
   "outputs": [
    {
     "name": "stdout",
     "output_type": "stream",
     "text": [
      "<class 'dict'>\n",
      "{'name': '홍길동', 'age': 20, '주소': '서울'}\n",
      "dict_keys(['name', 'age', '주소'])\n",
      "name\n",
      "age\n",
      "주소\n"
     ]
    }
   ],
   "source": [
    "# Built-in data type 4번째\n",
    "#   4. Mapping\n",
    "\n",
    "# 우리가 익히 알고 있는 Map 구조(key와 value 로 데이터를 저장하는 구조)\n",
    "# 파이썬에서는 이런 자료구조를 dictionary 라고 부른다.\n",
    "# class 이름 : dict\n",
    "\n",
    "# literal 표현\n",
    "#   {} : dict\n",
    "#   [] : list\n",
    "#   () : tuple\n",
    "a = { 'name':'홍길동', 'age':20 }\n",
    "  # json과 유사하게 생겼지. json은 \"\" 를 활용하는 게 차이점이다.\n",
    "print(type(a)) # 출력 : <class 'dict'>\n",
    "\n",
    "# Python의 dictionary 특징\n",
    "#   자바와는 달리, 동적으로 데이터를 추가할 수 있다.\n",
    "#   인덱션을 활용한다.\n",
    "a['주소'] = '서울'\n",
    "print(a) # 출력 : {'name': '홍길동', 'age': 20, '주소': '서울'}\n",
    "print(a.keys()) # 출력 : dict_keys(['name', 'age', '주소'])\n",
    "  # dict_keys()\n",
    "  # 생긴 것만 보면, key값들을 모아서 list로 리턴하는 것 같다.\n",
    "  # 하지만 list는 아니고, list와 유사하게 생긴 dict_keys라는 자료구조일 뿐이다.\n",
    "  # 따라서 list의 메소드를 똑같이 활용할 수 없다.\n",
    "\n",
    "# dict_keys() 자료구조 활용하기\n",
    "# for ~ in (집합자료구조) : 구문 활용하기\n",
    "#   java에서의 foreach 구문과 비슷\n",
    "#   집합 자료구조에는 list, tuple, list와 유사한 자료구조 들이 올 수 있다.\n",
    "#   마지막에 : 있으니 주의\n",
    "#   들여쓰기 4칸 필수. 3칸은 오류난다. 나중에 설정으로 바꿔줄 수 있긴 하다.\n",
    "#   원래 안 돼야 하는데 여기서는 되네. colab이라서 되는 것 같기도 하고...\n",
    "\n",
    "for tmp in a.keys():\n",
    "    print(tmp)\n",
    "\n"
   ]
  },
  {
   "cell_type": "code",
   "execution_count": 1,
   "metadata": {
    "scrolled": true
   },
   "outputs": [
    {
     "name": "stdout",
     "output_type": "stream",
     "text": [
      "{1, 2, 3, 4}\n",
      "<class 'set'>\n"
     ]
    }
   ],
   "source": [
    "# Built-in data type 5번째\n",
    "#   5. Set\n",
    "\n",
    "# 우리가 흔히 알고 있는 그 데이터셋이다.\n",
    "# 순서가 없다. 중복을 배제한다.\n",
    "# literal\n",
    "#   {} : Set (콤마로 나열)\n",
    "#   {} : dict (key와 value의 쌍으로 표현)\n",
    "#   [] : list\n",
    "#   () : tuple\n",
    "a = { 1, 2, 3, 4, 1, 2, 3 }\n",
    "print(a) # 출력 : {1, 2, 3, 4}\n",
    "print(type(a)) # 출력 : <class 'set'>"
   ]
  },
  {
   "cell_type": "code",
   "execution_count": 2,
   "metadata": {},
   "outputs": [
    {
     "name": "stdout",
     "output_type": "stream",
     "text": [
      "여행가고싶다.. 좀 쉬다 오고 싶다\n"
     ]
    }
   ],
   "source": [
    "# control statement\n",
    "# 제어문(if, for)\n",
    "\n",
    "# 콜론(:) : 여기서 표현식이 끝났다는 것을 의미하는 표시\n",
    "area = ['서울', '부산', '제주']\n",
    "if '서울' in area: {\n",
    "#     print('여행가고싶다.. 좀 쉬다 오고 싶다')\n",
    "    pass # 아무 동작도 하지 않고 지나가기\n",
    "        # 아무런 코드도 작성하지 않으면 문법적인 오류로 판단한다.\n",
    "}\n",
    "else:\n",
    "    print('지역 안에 없다.')"
   ]
  },
  {
   "cell_type": "code",
   "execution_count": 7,
   "metadata": {},
   "outputs": [
    {
     "name": "stdout",
     "output_type": "stream",
     "text": [
      "0\n",
      "1\n",
      "2\n",
      "3\n",
      "4\n",
      "5\n",
      "6\n",
      "7\n",
      "8\n",
      "9\n",
      "0@ 1@ 2@ 3@ 4@ 5@ 6@ 7@ 8@ 9@ 홍길동\n",
      "신사임당\n",
      "강감찬\n"
     ]
    }
   ],
   "source": [
    "# for문\n",
    "\n",
    "# for문은 2가지 형태로 많이 사용된다.\n",
    "# 1. for ~ in range()\n",
    "# 2. for ~ in list, dict\n",
    "\n",
    "# 반복할 횟수를 명시적으로 지정하고자 할 때 range()\n",
    "for test in range(10): # 0부터 9까지\n",
    "    print(test) # 출력 : 세로로 10줄에 걸쳐 출력됨\n",
    "# print()\n",
    "#   기본 : 인자로 들어온 문자열을 출력하고 한 줄을 띄운다.(Line Feed)\n",
    "#   줄바꿈 대신 다른 방식으로 출력하려면 end 속성을 사용한다.\n",
    "for test in range(10): # 0부터 9까지\n",
    "    print(test, end='@ ') # 출력 : 0@ 1@ 2@ 3@ 4@ 5@ 6@ 7@ 8@ 9@ \n",
    "a = ['홍길동', '신사임당', '강감찬']\n",
    "for name in a:\n",
    "    print(name)\n",
    "    # 출력 : 세로로 3줄. 홍길동 신사임당 강감찬"
   ]
  },
  {
   "cell_type": "code",
   "execution_count": 8,
   "metadata": {},
   "outputs": [
    {
     "name": "stdout",
     "output_type": "stream",
     "text": [
      "60\n"
     ]
    }
   ],
   "source": [
    "# 함수는 어떻게 만드나요?\n",
    "\n",
    "# JavaScript\n",
    "# function myFunc() {\n",
    "\n",
    "# }\n",
    "\n",
    "# Java\n",
    "# 함수가 없다. 대신 class 안에 method가 있다.\n",
    "# class A {\n",
    "\n",
    "# }\n",
    "\n",
    "# Python\n",
    "# 함수를 만들 수 있다.\n",
    "def myFunc(a, b, c):\n",
    "    return a + b + c\n",
    "result = myFunc(10, 20, 30)\n",
    "print(result) # 출력 : 60"
   ]
  }
 ],
 "metadata": {
  "colab": {
   "authorship_tag": "ABX9TyNE8M1yo1NsRLXhZATRTn13",
   "provenance": []
  },
  "kernelspec": {
   "display_name": "Python [conda env:data_env] *",
   "language": "python",
   "name": "conda-env-data_env-py"
  },
  "language_info": {
   "codemirror_mode": {
    "name": "ipython",
    "version": 3
   },
   "file_extension": ".py",
   "mimetype": "text/x-python",
   "name": "python",
   "nbconvert_exporter": "python",
   "pygments_lexer": "ipython3",
   "version": "3.8.16"
  }
 },
 "nbformat": 4,
 "nbformat_minor": 1
}
