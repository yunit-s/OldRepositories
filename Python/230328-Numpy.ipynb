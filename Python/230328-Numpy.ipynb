{
 "cells": [
  {
   "cell_type": "code",
   "execution_count": 1,
   "id": "beaf0f60",
   "metadata": {},
   "outputs": [],
   "source": [
    "# 이제부터 Numpy에 대해서 알아보자.\n",
    "# 여기서부터는 약간의 코드와 함께 이해를 동반해야 한다.\n",
    "\n",
    "# 데이터 분석, 머신러닝, 딥러닝 이런 분야를 할 때\n",
    "#     가장 시간이 많이 걸리고 잘 해야되는 것이 뭘까?\n",
    "#     데이터 수집과 정제\n",
    "#     우리가 얻을 수 있는 데이터는 쓸모없는 데이터들이 아주아주 많다.\n",
    "#     거기서 쓸모없는 데이터들을 계속 제거하면서 정제해야한다.\n",
    "# 딥러닝, 머신러닝만 중요한 게 아니다.\n",
    "#     근데 이런 건 그냥 가져다 쓰면 쓸 수 있다.\n",
    "#     사실 데이터 핸들링이 제일 중요하다.\n"
   ]
  },
  {
   "cell_type": "code",
   "execution_count": 2,
   "id": "1bb9107a",
   "metadata": {},
   "outputs": [],
   "source": [
    "# Numpy(Numerical Python)\n",
    "#     수치와 관련된 계산\n",
    "#     pandas(데이터 분석 module)와 matplotlib(시각화)의 base가 되는 기본 자료구조를 제공한다.\n",
    "#     직접적으로 데이터를 핸들링하는 경우는 별로 없지만, 자료구조의 특징들은 알고 있어야 한다.\n",
    "\n",
    "# ndarray\n",
    "# numpy가 제공하는 유일한 자료구조\n",
    "# n-dimensional array. n차원 배열. 다차원 배열\n",
    "# 보다 적은 메모리를 필요로 하고, 훨씬 더 빠른 처리를 할 수 있다."
   ]
  },
  {
   "cell_type": "code",
   "execution_count": 16,
   "id": "455a6885",
   "metadata": {},
   "outputs": [
    {
     "name": "stdout",
     "output_type": "stream",
     "text": [
      "[1, 2, 3, 4, 5]\n",
      "[1 2 3 4 5]\n",
      "<class 'numpy.ndarray'>\n",
      "[1, 3.14, '홍길동', True]\n",
      "[1.   2.   3.14 4.   5.  ]\n",
      "float64\n"
     ]
    }
   ],
   "source": [
    "# numpy는 외부 module이기 때문에 당연히 설치해야 한다.\n",
    "# numpy 설치 명령어\n",
    "#     conda install numpy\n",
    "# 외부 모듈을 파이썬에서 쓰기 위해서는 import 구문이 필요하다.\n",
    "# import numpy\n",
    "#     이렇게만 잡으면, 이름을 numpy 로 계속 사용해야 한다.\n",
    "import numpy as np\n",
    "#     aliasing을 잡자. 전세계가 이렇게 잡는다.\n",
    "\n",
    "a = [1, 2, 3, 4, 5] # python의 list\n",
    "print(a) # 출력 : [1, 2, 3, 4, 5]\n",
    "\n",
    "# b = np.array() # numpyt에서 array를 생성한다.\n",
    "b = np.array([1, 2, 3, 4, 5]) # 파이썬의 list를 가지고 numpy의 ndarray를 만들어준다.\n",
    "print(b) # 출력 : [1 2 3 4 5]\n",
    "#     리스트 출력과 ndarray의 출력은 다르다. 이번엔 콤마 가 없다.\n",
    "print(type(b)) # 출력 : <class 'numpy.ndarray'>\n",
    "\n",
    "# 기억해야하는 특징\n",
    "# list 안에는 아무거나 막 들어올 수 있다.\n",
    "c = [1, 3.14, '홍길동', True]\n",
    "print(c) # 출력 : [1, 3.14, '홍길동', True]\n",
    "# ndarray는 반드시 같은 데이터 타입끼리만 들어올 수 있다.\n",
    "d = np.array([1, 2, 3.14, 4, 5])\n",
    "print(d) # 출력 : [1.   2.   3.14 4.   5.  ]\n",
    "print(d.dtype) # 출력 : float64\n"
   ]
  },
  {
   "cell_type": "code",
   "execution_count": 3,
   "id": "c67b53fa",
   "metadata": {},
   "outputs": [
    {
     "name": "stdout",
     "output_type": "stream",
     "text": [
      "[[1, 2, 3], [4, 5, 6]]\n",
      "[[1 2 3]\n",
      " [4 5 6]]\n",
      "2\n",
      "[1 2 3]\n"
     ]
    }
   ],
   "source": [
    "# ndarray가 list와 가장 크게 차이나는 것\n",
    "#     차원을 표현할 수 있다.\n",
    "import numpy as np\n",
    "#     윗쪽 cell에 이미 선언되어 있으므로 안 적어도 됨. 그냥 보기 좋게 적어두자.\n",
    "\n",
    "# 중첩 리스트를 2차원 매트릭스로 변환하기\n",
    "myList = [[1, 2, 3], [4, 5, 6]] # 중첩리스트\n",
    "print(myList) # 출력 : [[1, 2, 3], [4, 5, 6]]\n",
    "arr = np.array(myList)\n",
    "print(arr) # 출력 : [[1 2 3] [4 5 6]]\n",
    "print(arr[0, 1]) # 출력 : 2\n",
    "#     0행 1열을 의미하는 numpy 출력법\n",
    "print(arr[0])"
   ]
  },
  {
   "cell_type": "code",
   "execution_count": 26,
   "id": "c69a221b",
   "metadata": {},
   "outputs": [
    {
     "name": "stdout",
     "output_type": "stream",
     "text": [
      "[1 2 3 4]\n",
      "int32\n",
      "1\n",
      "(4,)\n",
      "(3, 2)\n"
     ]
    }
   ],
   "source": [
    "# 중요한 속성이 있다.\n",
    "\n",
    "# 1차원 ndarray를 하나 만들어보자.\n",
    "arr = np.array([1, 2, 3, 4])\n",
    "print(arr) # 출력 : [1 2 3 4]\n",
    "# 속성 3가지\n",
    "#     dtype : 데이터 타입\n",
    "#     ndim : 차원\n",
    "#     shape : 데이터의 형태. 차원의 수와 요소 수를 tuple로 같이 출력한다.\n",
    "print(arr.dtype) # 출력 : int32\n",
    "print(arr.ndim) # 출력 : 1\n",
    "print(arr.shape) # 출력 : (4,)\n",
    "#     tuple의 원소 개수 : 차원 수\n",
    "#     tuple의 각 차원의 원소 값 : 요소 수\n",
    "\n",
    "b = [[1, 2], [3, 4], [5, 6]]\n",
    "arr = np.array(b)\n",
    "print(arr.shape) # 출력 : (3, 2)\n",
    "#     1차원:행. 2차원:열. 총 2개 차원이니까 tuple의 원소 수가 2개"
   ]
  },
  {
   "cell_type": "code",
   "execution_count": 7,
   "id": "cdde33be",
   "metadata": {},
   "outputs": [
    {
     "name": "stdout",
     "output_type": "stream",
     "text": [
      "[10 20 30]\n",
      "[[1 2 3]\n",
      " [4 5 6]]\n",
      "[[[1 2 3 4]\n",
      "  [4 5 6 7]]\n",
      "\n",
      " [[1 2 3 4]\n",
      "  [4 5 6 7]]]\n",
      "(2, 2, 4)\n"
     ]
    }
   ],
   "source": [
    "# 데이터 표현\n",
    "\n",
    "a = 10 # 0차원. scalar. 단순한 값 하나.\n",
    "b = [10, 20, 30] # 1차원. vector. 정확히는 방향성이 있는 걸 벡터라고 부른다.\n",
    "c = [[1, 2, 3], [4, 5, 6]] # 2차원. matrix. 행렬\n",
    "d = [[[1, 2, 3, 4], [4, 5, 6, 7]], [[1, 2, 3, 4], [4, 5, 6, 7]]] # 3차원. 다차원배열\n",
    "\n",
    "# numpy의 ndarray\n",
    "arr = np.array(b) # 1차원(vector)\n",
    "print(arr)\n",
    "arr = np.array(c) # 2차원(matrix-행렬)\n",
    "print(arr)\n",
    "arr = np.array(d) # 3차원\n",
    "print(arr)\n",
    "print(arr.shape) # 출력 : (2, 2, 4)\n",
    "#     요소가 3개 출력됐으니까 3차원"
   ]
  },
  {
   "cell_type": "code",
   "execution_count": 19,
   "id": "9f662cbb",
   "metadata": {
    "scrolled": true
   },
   "outputs": [
    {
     "name": "stdout",
     "output_type": "stream",
     "text": [
      "[[0. 0. 0. 0.]\n",
      " [0. 0. 0. 0.]\n",
      " [0. 0. 0. 0.]]\n"
     ]
    }
   ],
   "source": [
    "# ndarray를 만드는 가장 쉬운 방법\n",
    "# np.array()를 이용해서 만들자.\n",
    "\n",
    "# 색다르게 만드는 방법\n",
    "# zeros(shape)\n",
    "arr = np.zeros((3, 4))\n",
    "print(arr) # 출력 : 3행 4열. 0이 총 12개\n",
    "\n",
    "# arange()\n",
    "#     파이썬의 range와 동일한 역할을 한다. 범위 내의 요소들을 일차원으로 나열해서 가지고 있다.\n",
    "#     파이썬의 range와 차이점\n",
    "#         파이썬의 range()는 단순한 개념일 뿐, 실제 데이터를 메모리에 가지고 있지 않다.\n",
    "#         numpy의 arange()는 데이터를 실제로 가지고 있다."
   ]
  },
  {
   "cell_type": "code",
   "execution_count": 21,
   "id": "94729027",
   "metadata": {},
   "outputs": [
    {
     "name": "stdout",
     "output_type": "stream",
     "text": [
      "[ 0  1  2  3  4  5  6  7  8  9 10 11]\n",
      "[[ 0  1  2  3]\n",
      " [ 4  5  6  7]\n",
      " [ 8  9 10 11]]\n",
      "[  0   1   2   3   4   5   6   7   8   9  10 100]\n",
      "[[  0   1   2   3]\n",
      " [  4   5   6   7]\n",
      " [  8   9  10 100]]\n",
      "[[[  0   1   2]\n",
      "  [  3   4   5]]\n",
      "\n",
      " [[  6   7   8]\n",
      "  [  9  10 100]]]\n",
      "[[  0   1]\n",
      " [  2   3]\n",
      " [  4   5]\n",
      " [  6   7]\n",
      " [  8   9]\n",
      " [ 10 100]]\n",
      "[[[  0   1]\n",
      "  [  2   3]]\n",
      "\n",
      " [[  4   5]\n",
      "  [  6   7]]\n",
      "\n",
      " [[  8   9]\n",
      "  [ 10 100]]]\n"
     ]
    }
   ],
   "source": [
    "arr = np.arange(0, 12, 1)\n",
    "print(arr) # 출력 : [ 0  1  2  3  4  5  6  7  8  9 10 11]\n",
    "#     1차원 ndarry\n",
    "\n",
    "arr1 = arr.reshape(3, 4)\n",
    "print(arr1)\n",
    "\n",
    "arr[-1] = 100\n",
    "print(arr)\n",
    "print(arr1) # arr의 값을 바꿨는데 arr1의 값도 변한다.\n",
    "#     이러한 성질을 view 라고 한다.\n",
    "arr2 = arr.reshape(2, 2, 3)\n",
    "print(arr2)\n",
    "\n",
    "# reshape에서 -1의 의미\n",
    "#     고정되지 않은 크기\n",
    "arr1 = arr.reshape(-1, 2)\n",
    "print(arr1) # 열의 크기가 2로 고정됨. 따라서 행의 크기가 6이 된다.\n",
    "arr1 = arr.reshape(-1, 2, 2)\n",
    "print(arr1)"
   ]
  },
  {
   "cell_type": "code",
   "execution_count": 32,
   "id": "02103f84",
   "metadata": {},
   "outputs": [
    {
     "name": "stdout",
     "output_type": "stream",
     "text": [
      "[0 1 2 3 4]\n",
      "4\n",
      "[0 1]\n",
      "[2 3]\n",
      "[0 2 4]\n",
      "[ 1  2  3  4  5  6  7  8  9 10 11 12 13 14 15 16]\n",
      "[[ 1  2  3  4]\n",
      " [ 5  6  7  8]\n",
      " [ 9 10 11 12]\n",
      " [13 14 15 16]]\n",
      "7\n",
      "[7 8]\n",
      "[ 3  7 11 15]\n"
     ]
    }
   ],
   "source": [
    "# numpy array도 indexing과 slicing을 할 수 있다.\n",
    "\n",
    "arr = np.arange(0, 5, 1)\n",
    "print(arr)\n",
    "print(arr[-1]) # 출력 : 4\n",
    "\n",
    "print(arr[0:2]) # 출력 : [0 1]\n",
    "print(arr[2:-1]) # 출력 : [2, 3]. -1이면 마지막 4를 가리키고, 4는 exclusive니까 미출력\n",
    "print(arr[0::2]) # 출력 : [0 2 4]. 맨 끝까지, 2칸씩 넘어간다.\n",
    "\n",
    "arr = np.arange(1, 17, 1)\n",
    "print(arr) # 1~16까지\n",
    "arr = np.arange(1, 17, 1).reshape(4,4)\n",
    "print(arr) # 1~16까지. 4행 4열\n",
    "print(arr[1, 2]) # 출력 : 7. 2행 3열 요소 출력\n",
    "print(arr[1, 2:4]) # 출력 : [7 8]. 2행 3~4열 요소 출력\n",
    "print(arr[:, 2]) # 출력 : [ 3 7 11 15]. 모든 행, 3번째 열 출력"
   ]
  },
  {
   "cell_type": "code",
   "execution_count": 43,
   "id": "cce74ff0",
   "metadata": {},
   "outputs": [
    {
     "name": "stdout",
     "output_type": "stream",
     "text": [
      "[0 1 2 3 4]\n",
      "[0 1 2 3 4]\n",
      "[0 2 3]\n"
     ]
    }
   ],
   "source": [
    "# 기본 indexing과 slicing은 간단하다. python과 동일하다.\n",
    "# indexing에는 특이한 indexing 기법이 두 개 더 있다.\n",
    "# 기본 indexing, Boolean indexing, Fancy indexing\n",
    "\n",
    "arr = np.arange(0, 5, 1)\n",
    "print(arr)\n",
    "\n",
    "# boolean mask 내가 적용하는 ndarray와 shape이 같아야 한다.\n",
    "boolean_mask = np.array([1, 2, 3, 4, 5])\n",
    "arr = np.arange(0, 5, 1)\n",
    "print(arr)\n",
    "\n",
    "boolean_mask = np.array([True, False, True, True, False])\n",
    "print(arr[boolean_mask])\n"
   ]
  },
  {
   "cell_type": "code",
   "execution_count": 44,
   "id": "3b361b45",
   "metadata": {},
   "outputs": [
    {
     "name": "stdout",
     "output_type": "stream",
     "text": [
      "[1 2 3 4 5]\n",
      "[10 20 30 40 50]\n",
      "[11 22 33 44 55]\n",
      "[False False False  True  True]\n"
     ]
    }
   ],
   "source": [
    "arr = np.array([1, 2, 3, 4, 5])\n",
    "print(arr) # 출력 : [1 2 3 4 5]\n",
    "\n",
    "arr1 = np.array([10, 20, 30, 40, 50])\n",
    "print(arr1) # 출력 : [10 20 30 40 50]\n",
    "\n",
    "print(arr + arr1) # 출력 : [11 22 33 44 55]\n",
    "#     같은 위치의 데이터끼리 연산이 이루어진다.\n",
    "#     이게 바로 ndarray를 사용하는 가장 큰 이유\n",
    "\n",
    "arr = np.array([1, 2, 3, 4, 5])\n",
    "arr1 = np.array([5, 4, 3, 2, 1])\n",
    "print(arr > arr1) # 출력 : [False False False  True  True]\n"
   ]
  },
  {
   "cell_type": "code",
   "execution_count": 57,
   "id": "899ed7cf",
   "metadata": {},
   "outputs": [
    {
     "name": "stdout",
     "output_type": "stream",
     "text": [
      "[0 1 2 3 4 5 6 7 8 9]\n",
      "[0 2 4 6 8]\n"
     ]
    }
   ],
   "source": [
    "# 퀴즈. 코드 한 줄로 짝수만 출력하기\n",
    "arr = np.arange(0, 10, 1)\n",
    "print(arr)\n",
    "# 정답\n",
    "print(arr[arr % 2 ==0])"
   ]
  },
  {
   "cell_type": "code",
   "execution_count": 64,
   "id": "7dd9d2ff",
   "metadata": {},
   "outputs": [
    {
     "name": "stdout",
     "output_type": "stream",
     "text": [
      "[[ 0  1  2  3]\n",
      " [ 4  5  6  7]\n",
      " [ 8  9 10 11]]\n",
      "10\n",
      "[6]\n",
      "[[5]]\n",
      "[[0 1 2]\n",
      " [4 5 6]]\n",
      "[[0 2]\n",
      " [4 6]]\n"
     ]
    }
   ],
   "source": [
    "# 또 다른 indexing 방법 - Fancy Indexing\n",
    "\n",
    "# copy()\n",
    "#     view만 바꾸는 게 아니라, 실제로 결과물 그대로 메모리에 저장하는 것\n",
    "arr = np.arange(0, 12, 1).reshape(3, 4).copy()\n",
    "print(arr)\n",
    "\n",
    "# slicing 결과물\n",
    "print(arr[2, 2]) # 10. scalar\n",
    "print(arr[1:2, 2]) # [6]. vector\n",
    "#     slicing이 들어갔으니까 결과가 1차원으로 나온다.\n",
    "print(arr[1:2, 1:2]) # [[5]]. matrix\n",
    "#     행, 열 둘 다 slicing됐기 때문\n",
    "\n",
    "# Fancy indexing\n",
    "# 원하는 데이터를 list로 표현해서 추려내는 방법\n",
    "print(arr[:2, :-1])\n",
    "print(arr[:2, [0, 2]])\n",
    "#     원하는 열의 데이터를 list로 표현해서 추출하기"
   ]
  },
  {
   "cell_type": "code",
   "execution_count": 65,
   "id": "44394eac",
   "metadata": {},
   "outputs": [],
   "source": [
    "# 지금까지 학습한 내용\n",
    "# 기본적인 indexing, 기본적인 slicing, Boolean indexing, Fancy indexing"
   ]
  },
  {
   "cell_type": "code",
   "execution_count": 70,
   "id": "343b852d",
   "metadata": {},
   "outputs": [
    {
     "name": "stdout",
     "output_type": "stream",
     "text": [
      "[[1 2 3]\n",
      " [4 5 6]]\n",
      "[[1 2]\n",
      " [3 4]\n",
      " [5 6]]\n",
      "[[1 2 3]\n",
      " [4 5 6]]\n",
      "[[ 2  4  6]\n",
      " [ 8 10 12]]\n"
     ]
    }
   ],
   "source": [
    "# ndarray의 연산\n",
    "\n",
    "arr = np.array([[1, 2, 3], [4, 5, 6]])\n",
    "print(arr)\n",
    "arr1 = np.arange(1, 7, 1).reshape(3, 2)\n",
    "arr2 = np.arange(1, 7, 1).reshape(2, 3)\n",
    "print(arr1)\n",
    "print(arr2)\n",
    "\n",
    "# 연산이 수행되려면, shape이 같아야 한다.\n",
    "# print(arr + arr1) # 오류\n",
    "print(arr + arr2) # 오류 아님"
   ]
  },
  {
   "cell_type": "code",
   "execution_count": 79,
   "id": "f1e5e6e3",
   "metadata": {
    "scrolled": true
   },
   "outputs": [
    {
     "name": "stdout",
     "output_type": "stream",
     "text": [
      "[1 2 3 4 5]\n",
      "[4 5 6 7 8]\n",
      "[[3 4 5]\n",
      " [6 7 8]]\n",
      "[[0 1 2]\n",
      " [3 4 5]]\n",
      "[1 2 3]\n",
      "[[1 3 5]\n",
      " [4 6 8]]\n"
     ]
    }
   ],
   "source": [
    "# Broadcasting\n",
    "arr = np.array([1, 2, 3, 4, 5])\n",
    "print(arr) # 1차원 ndarray\n",
    "print(arr + 3) # 오류 아님\n",
    "#     위 코드를 실행하면, 3 이 [3, 3, 3, 3, 3]으로 자동으로 변경되어 연산이 수행되기 때문\n",
    "#     이를 broadcasting이라고 한다.\n",
    "\n",
    "# 예시\n",
    "arr = np.arange(0, 6, 1).reshape(2, 3)\n",
    "print(arr + 3)\n",
    "arr1 = np.array([1, 2, 3])\n",
    "print(arr)\n",
    "print(arr1)\n",
    "print(arr + arr1)"
   ]
  },
  {
   "cell_type": "code",
   "execution_count": 81,
   "id": "ca288525",
   "metadata": {},
   "outputs": [
    {
     "name": "stdout",
     "output_type": "stream",
     "text": [
      "[[1 2]\n",
      " [3 4]\n",
      " [5 6]]\n",
      "[[1 2]\n",
      " [3 4]]\n",
      "[[ 7 10]\n",
      " [15 22]\n",
      " [23 34]]\n"
     ]
    }
   ],
   "source": [
    "# 행렬 곱연산\n",
    "\n",
    "arr1 = np.array([[1, 2], [3, 4], [5, 6]])\n",
    "print(arr1)\n",
    "arr2 = np.array([[1, 2], [3, 4]])\n",
    "print(arr2)\n",
    "\n",
    "# 행렬곱\n",
    "print(np.dot(arr1, arr2))"
   ]
  },
  {
   "cell_type": "code",
   "execution_count": 94,
   "id": "6681a8b9",
   "metadata": {},
   "outputs": [
    {
     "name": "stdout",
     "output_type": "stream",
     "text": [
      "[1 2 3 4 5]\n",
      "15\n",
      "3.0\n",
      "5\n",
      "4\n",
      "15\n",
      "[[1 2 3]\n",
      " [4 5 6]]\n",
      "21\n",
      "[5 7 9]\n",
      "[ 6 15]\n"
     ]
    }
   ],
   "source": [
    "# 집계함수와 축\n",
    "\n",
    "# 집계함수\n",
    "#     집계함수를 사용하는 것이 로직으로 처리하는 것보다 처리속도가 훨씬 빠르다.\n",
    "arr = np.arange(1, 6, 1)\n",
    "print(arr)\n",
    "print(arr.sum()) # 출력 : 15\n",
    "print(arr.mean()) # 출력 : 3.0\n",
    "print(arr.max()) # 출력 : 5\n",
    "print(arr.argmax()) # 출력 : 4\n",
    "#     argmax() : 가장 큰 값을 가지는 숫자의 인덱스\n",
    "\n",
    "# 축. axis\n",
    "# 1차원 ndarray는 축 1개\n",
    "#     축을 숫자로 표현하기.\n",
    "print(arr.sum(axis = 0)) # 출력 : 15\n",
    "\n",
    "arr = np.arange(1, 7, 1).reshape(2, 3)\n",
    "print(arr)\n",
    "print(arr.sum()) # 출력 : 21\n",
    "#     축에 상관없이 더하기\n",
    "# 2차원 ndarray는 축 2개\n",
    "#     행 방향(행이 증가하는 방향) => 0, 열 방향(열이 증가하는 방향) => 1\n",
    "print(arr.sum(axis = 0)) # 출력 : [5 7 9]\n",
    "print(arr.sum(axis = 1)) # 출력 : [ 6 15]\n"
   ]
  },
  {
   "cell_type": "code",
   "execution_count": 103,
   "id": "fd5ef0f9",
   "metadata": {},
   "outputs": [
    {
     "name": "stdout",
     "output_type": "stream",
     "text": [
      "81\n"
     ]
    }
   ],
   "source": [
    "# 문제\n",
    "arr = np.array([[1, 2, 3, 4],\n",
    "                [5, 6, 7, 8],\n",
    "                [9, 10, 11, 12],\n",
    "                [13, 14, 15, 16]])\n",
    "# 10보다 큰 값들의 합은 얼마인가?\n",
    "print(arr[arr > 10].sum())"
   ]
  }
 ],
 "metadata": {
  "kernelspec": {
   "display_name": "Python [conda env:data_env] *",
   "language": "python",
   "name": "conda-env-data_env-py"
  },
  "language_info": {
   "codemirror_mode": {
    "name": "ipython",
    "version": 3
   },
   "file_extension": ".py",
   "mimetype": "text/x-python",
   "name": "python",
   "nbconvert_exporter": "python",
   "pygments_lexer": "ipython3",
   "version": "3.8.16"
  }
 },
 "nbformat": 4,
 "nbformat_minor": 5
}
